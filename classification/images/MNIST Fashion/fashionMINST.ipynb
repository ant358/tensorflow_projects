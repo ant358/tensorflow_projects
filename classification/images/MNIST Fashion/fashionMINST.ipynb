{
  "nbformat": 4,
  "nbformat_minor": 0,
  "metadata": {
    "colab": {
      "provenance": [],
      "authorship_tag": "ABX9TyPMOVlUj8S4WsJh7TyXLeGm",
      "include_colab_link": true
    },
    "kernelspec": {
      "name": "python3",
      "display_name": "Python 3"
    },
    "language_info": {
      "name": "python"
    },
    "accelerator": "GPU",
    "gpuClass": "standard"
  },
  "cells": [
    {
      "cell_type": "markdown",
      "metadata": {
        "id": "view-in-github",
        "colab_type": "text"
      },
      "source": [
        "<a href=\"https://colab.research.google.com/github/ant358/tensorflow_projects/blob/main/classification/images/MNIST%20Fashion/fashionMINST.ipynb\" target=\"_parent\"><img src=\"https://colab.research.google.com/assets/colab-badge.svg\" alt=\"Open In Colab\"/></a>"
      ]
    },
    {
      "cell_type": "code",
      "execution_count": null,
      "metadata": {
        "colab": {
          "base_uri": "https://localhost:8080/"
        },
        "id": "Fuz8PXpIIgD4",
        "outputId": "6bbe439c-257d-455d-9287-b12d85370f80"
      },
      "outputs": [
        {
          "output_type": "stream",
          "name": "stdout",
          "text": [
            "2.8.2\n",
            "Downloading data from https://storage.googleapis.com/tensorflow/tf-keras-datasets/train-labels-idx1-ubyte.gz\n",
            "32768/29515 [=================================] - 0s 0us/step\n",
            "40960/29515 [=========================================] - 0s 1us/step\n",
            "Downloading data from https://storage.googleapis.com/tensorflow/tf-keras-datasets/train-images-idx3-ubyte.gz\n",
            "26427392/26421880 [==============================] - 0s 0us/step\n",
            "26435584/26421880 [==============================] - 0s 0us/step\n",
            "Downloading data from https://storage.googleapis.com/tensorflow/tf-keras-datasets/t10k-labels-idx1-ubyte.gz\n",
            "16384/5148 [===============================================================================================] - 0s 0us/step\n",
            "Downloading data from https://storage.googleapis.com/tensorflow/tf-keras-datasets/t10k-images-idx3-ubyte.gz\n",
            "4423680/4422102 [==============================] - 0s 0us/step\n",
            "4431872/4422102 [==============================] - 0s 0us/step\n",
            "(60000, 28, 28)\n",
            "(60000,)\n",
            "Training model...\n",
            "Epoch 1/10\n",
            "1875/1875 [==============================] - 18s 4ms/step - loss: 0.5344 - accuracy: 0.8073 - val_loss: 0.3953 - val_accuracy: 0.8597\n",
            "Epoch 2/10\n",
            "1875/1875 [==============================] - 6s 3ms/step - loss: 0.3553 - accuracy: 0.8716 - val_loss: 0.3507 - val_accuracy: 0.8719\n",
            "Epoch 3/10\n",
            "1875/1875 [==============================] - 6s 3ms/step - loss: 0.3118 - accuracy: 0.8862 - val_loss: 0.3339 - val_accuracy: 0.8804\n",
            "Epoch 4/10\n",
            "1875/1875 [==============================] - 6s 3ms/step - loss: 0.2836 - accuracy: 0.8968 - val_loss: 0.3035 - val_accuracy: 0.8919\n",
            "Epoch 5/10\n",
            "1875/1875 [==============================] - 6s 3ms/step - loss: 0.2656 - accuracy: 0.9030 - val_loss: 0.3026 - val_accuracy: 0.8933\n",
            "Epoch 6/10\n",
            "1875/1875 [==============================] - 6s 3ms/step - loss: 0.2493 - accuracy: 0.9100 - val_loss: 0.2939 - val_accuracy: 0.8975\n",
            "Epoch 7/10\n",
            "1875/1875 [==============================] - 6s 3ms/step - loss: 0.2367 - accuracy: 0.9127 - val_loss: 0.3104 - val_accuracy: 0.8937\n",
            "Epoch 8/10\n",
            "1875/1875 [==============================] - 6s 3ms/step - loss: 0.2242 - accuracy: 0.9176 - val_loss: 0.2835 - val_accuracy: 0.9013\n",
            "Epoch 9/10\n",
            "1875/1875 [==============================] - 7s 4ms/step - loss: 0.2128 - accuracy: 0.9216 - val_loss: 0.3011 - val_accuracy: 0.8951\n",
            "Epoch 10/10\n",
            "1875/1875 [==============================] - 7s 4ms/step - loss: 0.2050 - accuracy: 0.9245 - val_loss: 0.2909 - val_accuracy: 0.8979\n",
            "Evaluating model...\n",
            "313/313 [==============================] - 1s 2ms/step - loss: 0.2909 - accuracy: 0.8979\n"
          ]
        }
      ],
      "source": [
        "\"\"\"\n",
        "This script should train a TensorFlow model on the fashion MNIST\n",
        "dataset to ~90% test accuracy.\n",
        "\n",
        "It'll save the model to the current directory using the \".h5\" extension.\n",
        "You can use it to test if your local machine is fast enough to complete the\n",
        "TensorFlow Developer Certification.\n",
        "\n",
        "If this script runs in under 5-10 minutes through PyCharm, you're good to go.\n",
        "The models/datasets in the exam are similar to the ones used in this script.\n",
        "\"\"\"\n",
        "%timeit\n",
        "import tensorflow as tf\n",
        "from tensorflow.keras import datasets, layers\n",
        "\n",
        "# Check version of TensorFlow (exam requires a certain version)\n",
        "# See for version: https://www.tensorflow.org/extras/cert/Setting_Up_TF_Developer_Certificate_Exam.pdf\n",
        "print(tf.__version__)\n",
        "\n",
        "# Get data\n",
        "(train_images, train_labels), (test_images, test_labels) = datasets.fashion_mnist.load_data()\n",
        "\n",
        "# Normalize images (get values between 0 & 1)\n",
        "train_images, test_images = train_images / 255.0, test_images / 255.0\n",
        "\n",
        "# Check shape of input data\n",
        "print(train_images.shape)\n",
        "print(train_labels.shape)\n",
        "\n",
        "# Build model\n",
        "model = tf.keras.Sequential([\n",
        "    # Reshape inputs to be compatible with Conv2D layer\n",
        "    layers.Lambda(lambda x: tf.expand_dims(x, axis=-1)),\n",
        "    layers.Conv2D(32, 3, activation=\"relu\"),\n",
        "    layers.MaxPool2D(),\n",
        "    layers.Conv2D(32, 3, activation=\"relu\"),\n",
        "    layers.MaxPool2D(),\n",
        "    layers.Conv2D(32, 3, activation=\"relu\"),\n",
        "    layers.Flatten(), # flatten outputs of final Conv layer to be suited for final Dense layer\n",
        "    layers.Dense(10, activation=\"softmax\")\n",
        "])\n",
        "\n",
        "# Compile model\n",
        "model.compile(loss=\"sparse_categorical_crossentropy\", # if labels aren't one-hot use sparse (if labels are one-hot, drop sparse)\n",
        "              optimizer=tf.keras.optimizers.Adam(),\n",
        "              metrics=[\"accuracy\"])\n",
        "\n",
        "# Fit model\n",
        "print(\"Training model...\")\n",
        "model.fit(x=train_images,\n",
        "          y=train_labels,\n",
        "          epochs=10,\n",
        "          validation_data=(test_images, test_labels))\n",
        "\n",
        "# Evaluate model\n",
        "print(\"Evaluating model...\")\n",
        "model.evaluate(test_images, test_labels)\n",
        "\n",
        "# Save model to current working directory\n",
        "model.save(\"test_image_model.h5\")"
      ]
    }
  ]
}