{
  "nbformat": 4,
  "nbformat_minor": 0,
  "metadata": {
    "colab": {
      "provenance": [],
      "authorship_tag": "ABX9TyPYocxDnRB1egwxQMI4uQSv",
      "include_colab_link": true
    },
    "kernelspec": {
      "name": "python3",
      "display_name": "Python 3"
    },
    "language_info": {
      "name": "python"
    }
  },
  "cells": [
    {
      "cell_type": "markdown",
      "metadata": {
        "id": "view-in-github",
        "colab_type": "text"
      },
      "source": [
        "<a href=\"https://colab.research.google.com/github/ant358/tensorflow_projects/blob/main/classification/images/sign_mnist.ipynb\" target=\"_parent\"><img src=\"https://colab.research.google.com/assets/colab-badge.svg\" alt=\"Open In Colab\"/></a>"
      ]
    },
    {
      "cell_type": "code",
      "execution_count": null,
      "metadata": {
        "colab": {
          "base_uri": "https://localhost:8080/"
        },
        "id": "lP6q2IhXYMec",
        "outputId": "f41d5983-74db-412f-a004-71764d3ea18f"
      },
      "outputs": [
        {
          "output_type": "stream",
          "name": "stdout",
          "text": [
            "/usr/local/lib/python3.7/dist-packages/gdown/cli.py:131: FutureWarning: Option `--id` was deprecated in version 4.3.1 and will be removed in 5.0. You don't need to pass it anymore to use a file ID.\n",
            "  category=FutureWarning,\n",
            "Downloading...\n",
            "From: https://drive.google.com/uc?id=1z1BIj4qmri59GWBG4ivMNFtpZ4AXIbzg\n",
            "To: /content/sign_mnist_test.csv\n",
            "100% 21.8M/21.8M [00:00<00:00, 23.4MB/s]\n"
          ]
        }
      ],
      "source": [
        "import csv\n",
        "import numpy as np\n",
        "import tensorflow as tf\n",
        "from tensorflow.keras.preprocessing.image import ImageDataGenerator\n",
        "from google.colab import files\n",
        "\n",
        "# sign_mnist_test.csv\n",
        "!gdown --id 1z1BIj4qmri59GWBG4ivMNFtpZ4AXIbzg"
      ]
    },
    {
      "cell_type": "code",
      "source": [
        "# sign_mnist_train.csv\n",
        "!gdown --id 1z0DkA9BytlLxO1C0BAWzknLyQmZAp0HR\n",
        "# sign_mnist_test.csv\n",
        "!gdown --id 1z1BIj4qmri59GWBG4ivMNFtpZ4AXIbzg\n",
        "\n",
        "def get_data(filename):\n",
        "  # You will need to write code that will read the file passed\n",
        "  # into this function. The first line contains the column headers\n",
        "  # so you should ignore it\n",
        "  # Each successive line contians 785 comma separated values between 0 and 255\n",
        "  # The first value is the label\n",
        "  # The rest are the pixel values for that picture\n",
        "  # The function will return 2 np.array types. One with all the labels\n",
        "  # One with all the images\n",
        "  #\n",
        "  # Tips: \n",
        "  # If you read a full line (as 'row') then row[0] has the label\n",
        "  # and row[1:785] has the 784 pixel values\n",
        "  # Take a look at np.array_split to turn the 784 pixels into 28x28\n",
        "  # You are reading in strings, but need the values to be floats\n",
        "  # Check out np.array().astype for a conversion  \n",
        "    with open(filename) as training_file:\n",
        "        ### START CODE HERE\n",
        "        \n",
        "        csv_reader = csv.reader(training_file, delimiter=',')\n",
        "        first_line = True\n",
        "        temp_images = []\n",
        "        temp_labels = []\n",
        "        for row in csv_reader:\n",
        "            if first_line:\n",
        "                # print(\"Ignoring first line\")\n",
        "                first_line = False\n",
        "            else:\n",
        "                temp_labels.append(row[0])\n",
        "                image_data = row[1:785]\n",
        "                image_data_as_array = np.array_split(image_data, 28)\n",
        "                temp_images.append(image_data_as_array)\n",
        "        images = np.array(temp_images).astype('float')\n",
        "        labels = np.array(temp_labels).astype('float')\n",
        "\n",
        "        ### END CODE HERE\n",
        "    return images, labels\n",
        "\n",
        "\n",
        "training_images, training_labels = get_data('./sign_mnist_train.csv')\n",
        "testing_images, testing_labels = get_data('./sign_mnist_test.csv')\n",
        "\n",
        "print(training_images.shape)\n",
        "print(training_labels.shape)\n",
        "print(testing_images.shape)\n",
        "print(testing_labels.shape)\n",
        "\n",
        "# Their output should be:\n",
        "# (27455, 28, 28)\n",
        "# (27455,)\n",
        "# (7172, 28, 28)\n",
        "# (7172,)"
      ],
      "metadata": {
        "colab": {
          "base_uri": "https://localhost:8080/"
        },
        "id": "7C92emo6YUrD",
        "outputId": "fc540b45-4a07-4777-96aa-c510ccc06341"
      },
      "execution_count": null,
      "outputs": [
        {
          "output_type": "stream",
          "name": "stdout",
          "text": [
            "/usr/local/lib/python3.7/dist-packages/gdown/cli.py:131: FutureWarning: Option `--id` was deprecated in version 4.3.1 and will be removed in 5.0. You don't need to pass it anymore to use a file ID.\n",
            "  category=FutureWarning,\n",
            "Downloading...\n",
            "From: https://drive.google.com/uc?id=1z0DkA9BytlLxO1C0BAWzknLyQmZAp0HR\n",
            "To: /content/sign_mnist_train.csv\n",
            "100% 83.3M/83.3M [00:00<00:00, 88.4MB/s]\n",
            "/usr/local/lib/python3.7/dist-packages/gdown/cli.py:131: FutureWarning: Option `--id` was deprecated in version 4.3.1 and will be removed in 5.0. You don't need to pass it anymore to use a file ID.\n",
            "  category=FutureWarning,\n",
            "Downloading...\n",
            "From: https://drive.google.com/uc?id=1z1BIj4qmri59GWBG4ivMNFtpZ4AXIbzg\n",
            "To: /content/sign_mnist_test.csv\n",
            "100% 21.8M/21.8M [00:00<00:00, 129MB/s] \n",
            "(27455, 28, 28)\n",
            "(27455,)\n",
            "(7172, 28, 28)\n",
            "(7172,)\n"
          ]
        }
      ]
    },
    {
      "cell_type": "code",
      "source": [
        "# In this section you will have to add another dimension to the data\n",
        "# So, for example, if your array is (10000, 28, 28)\n",
        "# You will need to make it (10000, 28, 28, 1)\n",
        "# Hint: np.expand_dims\n",
        "\n",
        "training_images = np.expand_dims(training_images, axis=3) ### YOUR CODE HERE\n",
        "testing_images = np.expand_dims(testing_images, axis=3) ### YOUR CODE HERE\n",
        "\n",
        "train_datagen = ImageDataGenerator(\n",
        "    ### YOUR CODE HERE\n",
        "    rescale=1. / 255,\n",
        "    rotation_range=40,\n",
        "    width_shift_range=0.2,\n",
        "    height_shift_range=0.2,\n",
        "    shear_range=0.2,\n",
        "    zoom_range=0.2,\n",
        "    horizontal_flip=True,\n",
        "    fill_mode='nearest'\n",
        "    )\n",
        "\n",
        "\n",
        "validation_datagen = ImageDataGenerator(\n",
        "    ### YOUR CODE HERE\n",
        "    rescale=1. / 255\n",
        "    )\n",
        "\n",
        "# Keep These\n",
        "print(training_images.shape)\n",
        "print(testing_images.shape)\n",
        "    \n",
        "# Their output should be:\n",
        "# (27455, 28, 28, 1)\n",
        "# (7172, 28, 28, 1)"
      ],
      "metadata": {
        "colab": {
          "base_uri": "https://localhost:8080/"
        },
        "id": "tYqMxO6mZcYi",
        "outputId": "097cd932-8bec-46e6-97dd-5499557d7142"
      },
      "execution_count": null,
      "outputs": [
        {
          "output_type": "stream",
          "name": "stdout",
          "text": [
            "(27455, 28, 28, 1)\n",
            "(7172, 28, 28, 1)\n"
          ]
        }
      ]
    },
    {
      "cell_type": "code",
      "source": [
        "# Define the model\n",
        "# Use no more than 2 Conv2D and 2 MaxPooling2D\n",
        "model = tf.keras.models.Sequential([\n",
        "    ### START CODE HERE                                \n",
        "    tf.keras.layers.Conv2D(64, (3, 3), activation='relu', input_shape=(28, 28, 1)),\n",
        "    tf.keras.layers.MaxPooling2D(2, 2),\n",
        "    tf.keras.layers.Conv2D(64, (3, 3), activation='relu'),\n",
        "    tf.keras.layers.MaxPooling2D(2, 2),\n",
        "    tf.keras.layers.Flatten(),\n",
        "    tf.keras.layers.Dense(128, activation=tf.nn.relu),\n",
        "    tf.keras.layers.Dense(26, activation=tf.nn.softmax)]\n",
        "    ### END CODE HERE\n",
        "    )\n",
        "\n",
        "model.compile(optimizer = tf.optimizers.Adam(), ### YOUR CODE HERE)\n",
        "              loss = 'sparse_categorical_crossentropy',\n",
        "              metrics=['accuracy'])\n",
        "\n",
        "history = model.fit(train_datagen.flow(training_images, training_labels, batch_size=32), ### YOUR CODE HERE)\n",
        "                              steps_per_epoch=len(training_images) / 32,\n",
        "                              epochs=15,\n",
        "                              validation_data=validation_datagen.flow(testing_images, testing_labels, batch_size=32),\n",
        "                              validation_steps=len(testing_images) / 32)\n",
        "\n",
        "model.evaluate(testing_images, testing_labels)\n",
        "\n",
        "# The output from model.evaluate should be close to:\n",
        "# [6.92426086682151, 0.56609035]\n"
      ],
      "metadata": {
        "colab": {
          "base_uri": "https://localhost:8080/"
        },
        "id": "_qkciR9AZtR3",
        "outputId": "272b251a-0cf8-40e8-ee2a-fead2069a70f"
      },
      "execution_count": null,
      "outputs": [
        {
          "output_type": "stream",
          "name": "stdout",
          "text": [
            "Epoch 1/15\n",
            "857/857 [==============================] - 68s 78ms/step - loss: 2.8347 - accuracy: 0.1422 - val_loss: 2.0006 - val_accuracy: 0.3614\n",
            "Epoch 2/15\n",
            "857/857 [==============================] - 61s 72ms/step - loss: 2.0588 - accuracy: 0.3459 - val_loss: 1.5090 - val_accuracy: 0.4710\n",
            "Epoch 3/15\n",
            "857/857 [==============================] - 65s 75ms/step - loss: 1.6749 - accuracy: 0.4625 - val_loss: 1.0854 - val_accuracy: 0.6102\n",
            "Epoch 4/15\n",
            "857/857 [==============================] - 61s 71ms/step - loss: 1.4610 - accuracy: 0.5288 - val_loss: 0.8366 - val_accuracy: 0.7104\n",
            "Epoch 5/15\n",
            "857/857 [==============================] - 60s 70ms/step - loss: 1.2953 - accuracy: 0.5730 - val_loss: 0.7305 - val_accuracy: 0.7543\n",
            "Epoch 6/15\n",
            "857/857 [==============================] - 61s 71ms/step - loss: 1.1800 - accuracy: 0.6148 - val_loss: 0.6859 - val_accuracy: 0.7517\n",
            "Epoch 7/15\n",
            "857/857 [==============================] - 60s 70ms/step - loss: 1.0711 - accuracy: 0.6498 - val_loss: 0.6199 - val_accuracy: 0.7793\n",
            "Epoch 8/15\n",
            "857/857 [==============================] - 60s 70ms/step - loss: 0.9980 - accuracy: 0.6700 - val_loss: 0.6128 - val_accuracy: 0.7840\n",
            "Epoch 9/15\n",
            "857/857 [==============================] - 62s 72ms/step - loss: 0.9392 - accuracy: 0.6908 - val_loss: 0.4381 - val_accuracy: 0.8404\n",
            "Epoch 10/15\n",
            "857/857 [==============================] - 61s 71ms/step - loss: 0.8725 - accuracy: 0.7127 - val_loss: 0.5198 - val_accuracy: 0.8026\n",
            "Epoch 11/15\n",
            "857/857 [==============================] - 60s 69ms/step - loss: 0.8351 - accuracy: 0.7250 - val_loss: 0.4627 - val_accuracy: 0.8419\n",
            "Epoch 12/15\n",
            "857/857 [==============================] - 60s 69ms/step - loss: 0.7836 - accuracy: 0.7410 - val_loss: 0.4481 - val_accuracy: 0.8353\n",
            "Epoch 13/15\n",
            "857/857 [==============================] - 61s 71ms/step - loss: 0.7572 - accuracy: 0.7517 - val_loss: 0.3112 - val_accuracy: 0.8911\n",
            "Epoch 14/15\n",
            "857/857 [==============================] - 59s 69ms/step - loss: 0.7159 - accuracy: 0.7620 - val_loss: 0.3327 - val_accuracy: 0.8982\n",
            "Epoch 15/15\n",
            "857/857 [==============================] - 59s 69ms/step - loss: 0.6922 - accuracy: 0.7736 - val_loss: 0.3925 - val_accuracy: 0.8547\n",
            "225/225 [==============================] - 4s 16ms/step - loss: 275.4987 - accuracy: 0.5876\n"
          ]
        },
        {
          "output_type": "execute_result",
          "data": {
            "text/plain": [
              "[275.49871826171875, 0.5875627398490906]"
            ]
          },
          "metadata": {},
          "execution_count": 4
        }
      ]
    },
    {
      "cell_type": "code",
      "source": [
        "# Plot the chart for accuracy and loss on both training and validation\n",
        "\n",
        "import matplotlib.pyplot as plt\n",
        "acc = history.history['accuracy'] ### YOUR CODE HERE\n",
        "val_acc = history.history['val_accuracy'] ### YOUR CODE HERE\n",
        "loss = history.history['loss'] ### YOUR CODE HERE\n",
        "val_loss = history.history['val_loss'] ### YOUR CODE HERE\n",
        "\n",
        "epochs = range(len(acc))\n",
        "\n",
        "plt.plot(epochs, acc, 'r', label='Training accuracy')\n",
        "plt.plot(epochs, val_acc, 'b', label='Validation accuracy')\n",
        "plt.title('Training and validation accuracy')\n",
        "plt.legend()\n",
        "plt.figure()\n",
        "\n",
        "plt.plot(epochs, loss, 'r', label='Training Loss')\n",
        "plt.plot(epochs, val_loss, 'b', label='Validation Loss')\n",
        "plt.title('Training and validation loss')\n",
        "plt.legend()\n",
        "\n",
        "plt.show()"
      ],
      "metadata": {
        "id": "SJgLfunDZyXk"
      },
      "execution_count": null,
      "outputs": []
    }
  ]
}