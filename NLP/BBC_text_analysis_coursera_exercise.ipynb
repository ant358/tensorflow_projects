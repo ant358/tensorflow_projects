{
  "nbformat": 4,
  "nbformat_minor": 0,
  "metadata": {
    "colab": {
      "provenance": [],
      "authorship_tag": "ABX9TyOvivgK8Dpwjb5sRwFjKs0t",
      "include_colab_link": true
    },
    "kernelspec": {
      "name": "python3",
      "display_name": "Python 3"
    },
    "language_info": {
      "name": "python"
    }
  },
  "cells": [
    {
      "cell_type": "markdown",
      "metadata": {
        "id": "view-in-github",
        "colab_type": "text"
      },
      "source": [
        "<a href=\"https://colab.research.google.com/github/ant358/tensorflow_projects/blob/main/NLP/BBC_text_analysis_coursera_exercise.ipynb\" target=\"_parent\"><img src=\"https://colab.research.google.com/assets/colab-badge.svg\" alt=\"Open In Colab\"/></a>"
      ]
    },
    {
      "cell_type": "code",
      "execution_count": null,
      "metadata": {
        "colab": {
          "base_uri": "https://localhost:8080/"
        },
        "id": "0-oA_Rnxjj2X",
        "outputId": "f6154c8a-1030-4a6f-8901-3cf02de951e5"
      },
      "outputs": [
        {
          "output_type": "stream",
          "name": "stdout",
          "text": [
            "/usr/local/lib/python3.7/dist-packages/gdown/cli.py:131: FutureWarning: Option `--id` was deprecated in version 4.3.1 and will be removed in 5.0. You don't need to pass it anymore to use a file ID.\n",
            "  category=FutureWarning,\n",
            "Downloading...\n",
            "From: https://drive.google.com/uc?id=1rX10xeI3eUJmOLsc4pOPY6AnCLO8DxNj\n",
            "To: /content/bbc-text.csv\n",
            "100% 5.06M/5.06M [00:00<00:00, 28.9MB/s]\n"
          ]
        }
      ],
      "source": [
        "import csv\n",
        "import tensorflow as tf\n",
        "import numpy as np\n",
        "from tensorflow.keras.preprocessing.text import Tokenizer\n",
        "from tensorflow.keras.preprocessing.sequence import pad_sequences\n",
        "\n",
        "# bbc-text.csv\n",
        "!gdown --id 1rX10xeI3eUJmOLsc4pOPY6AnCLO8DxNj"
      ]
    },
    {
      "cell_type": "code",
      "source": [
        "vocab_size = 1000 # YOUR CODE HERE\n",
        "embedding_dim = 16 # YOUR CODE HERE\n",
        "max_length = 120 # YOUR CODE HERE\n",
        "trunc_type='post' # YOUR CODE HERE \n",
        "padding_type='post' # YOUR CODE HERE\n",
        "oov_tok = \"<OOV>\" # YOUR CODE HERE\n",
        "training_portion = .8"
      ],
      "metadata": {
        "id": "DD4hF_8Yjk7q"
      },
      "execution_count": null,
      "outputs": []
    },
    {
      "cell_type": "code",
      "source": [
        "sentences = []\n",
        "labels = []\n",
        "stopwords = [ \"a\", \"about\", \"above\", \"after\", \"again\", \"against\", \"all\", \"am\", \"an\", \"and\", \"any\", \"are\", \"as\", \"at\", \"be\", \"because\", \"been\", \"before\", \"being\", \"below\", \"between\", \"both\", \"but\", \"by\", \"could\", \"did\", \"do\", \"does\", \"doing\", \"down\", \"during\", \"each\", \"few\", \"for\", \"from\", \"further\", \"had\", \"has\", \"have\", \"having\", \"he\", \"he'd\", \"he'll\", \"he's\", \"her\", \"here\", \"here's\", \"hers\", \"herself\", \"him\", \"himself\", \"his\", \"how\", \"how's\", \"i\", \"i'd\", \"i'll\", \"i'm\", \"i've\", \"if\", \"in\", \"into\", \"is\", \"it\", \"it's\", \"its\", \"itself\", \"let's\", \"me\", \"more\", \"most\", \"my\", \"myself\", \"nor\", \"of\", \"on\", \"once\", \"only\", \"or\", \"other\", \"ought\", \"our\", \"ours\", \"ourselves\", \"out\", \"over\", \"own\", \"same\", \"she\", \"she'd\", \"she'll\", \"she's\", \"should\", \"so\", \"some\", \"such\", \"than\", \"that\", \"that's\", \"the\", \"their\", \"theirs\", \"them\", \"themselves\", \"then\", \"there\", \"there's\", \"these\", \"they\", \"they'd\", \"they'll\", \"they're\", \"they've\", \"this\", \"those\", \"through\", \"to\", \"too\", \"under\", \"until\", \"up\", \"very\", \"was\", \"we\", \"we'd\", \"we'll\", \"we're\", \"we've\", \"were\", \"what\", \"what's\", \"when\", \"when's\", \"where\", \"where's\", \"which\", \"while\", \"who\", \"who's\", \"whom\", \"why\", \"why's\", \"with\", \"would\", \"you\", \"you'd\", \"you'll\", \"you're\", \"you've\", \"your\", \"yours\", \"yourself\", \"yourselves\" ]\n",
        "print(len(stopwords))\n",
        "# Expected Output\n",
        "# 153"
      ],
      "metadata": {
        "colab": {
          "base_uri": "https://localhost:8080/"
        },
        "id": "a27Lh5pHjnuB",
        "outputId": "deba0510-e80a-4153-c1bd-c580c7f27197"
      },
      "execution_count": null,
      "outputs": [
        {
          "output_type": "stream",
          "name": "stdout",
          "text": [
            "153\n"
          ]
        }
      ]
    },
    {
      "cell_type": "code",
      "source": [
        "with open(\"./bbc-text.csv\", 'r') as csvfile:\n",
        "    \n",
        "    ### START CODE HERE\n",
        "    reader = csv.reader(csvfile, delimiter=',')\n",
        "    next(reader)\n",
        "    for row in reader:\n",
        "        labels.append(row[0])\n",
        "        sentence = row[1]\n",
        "        for word in stopwords:\n",
        "            token = \" \" + word + \" \"\n",
        "            sentence = sentence.replace(token, \" \")\n",
        "        sentences.append(sentence)\n",
        "    ### END CODE HERE\n",
        "\n",
        "print(len(labels))\n",
        "print(len(sentences))\n",
        "print(sentences[0])\n",
        "# Expected Output\n",
        "# 2225\n",
        "# 2225\n",
        "# tv future hands viewers home theatre systems  plasma high-definition tvs  digital video recorders moving living room  way people watch tv will radically different five years  time.  according expert panel gathered annual consumer electronics show las vegas discuss new technologies will impact one favourite pastimes. us leading trend  programmes content will delivered viewers via home networks  cable  satellite  telecoms companies  broadband service providers front rooms portable devices.  one talked-about technologies ces digital personal video recorders (dvr pvr). set-top boxes  like us s tivo uk s sky+ system  allow people record  store  play  pause forward wind tv programmes want.  essentially  technology allows much personalised tv. also built-in high-definition tv sets  big business japan us  slower take off europe lack high-definition programming. not can people forward wind adverts  can also forget abiding network channel schedules  putting together a-la-carte entertainment. us networks cable satellite companies worried means terms advertising revenues well  brand identity  viewer loyalty channels. although us leads technology moment  also concern raised europe  particularly growing uptake services like sky+.  happens today  will see nine months years  time uk   adam hume  bbc broadcast s futurologist told bbc news website. likes bbc  no issues lost advertising revenue yet. pressing issue moment commercial uk broadcasters  brand loyalty important everyone.  will talking content brands rather network brands   said tim hanlon  brand communications firm starcom mediavest.  reality broadband connections  anybody can producer content.  added:  challenge now hard promote programme much choice.   means  said stacey jolna  senior vice president tv guide tv group  way people find content want watch simplified tv viewers. means networks  us terms  channels take leaf google s book search engine future  instead scheduler help people find want watch. kind channel model might work younger ipod generation used taking control gadgets play them. might not suit everyone  panel recognised. older generations comfortable familiar schedules channel brands know getting. perhaps not want much choice put hands  mr hanlon suggested.  end  kids just diapers pushing buttons already - everything possible available   said mr hanlon.  ultimately  consumer will tell market want.   50 000 new gadgets technologies showcased ces  many enhancing tv-watching experience. high-definition tv sets everywhere many new models lcd (liquid crystal display) tvs launched dvr capability built  instead external boxes. one example launched show humax s 26-inch lcd tv 80-hour tivo dvr dvd recorder. one us s biggest satellite tv companies  directtv  even launched branded dvr show 100-hours recording capability  instant replay  search function. set can pause rewind tv 90 hours. microsoft chief bill gates announced pre-show keynote speech partnership tivo  called tivotogo  means people can play recorded programmes windows pcs mobile devices. reflect increasing trend freeing multimedia people can watch want  want."
      ],
      "metadata": {
        "colab": {
          "base_uri": "https://localhost:8080/"
        },
        "id": "5v9aCh3rjqFI",
        "outputId": "41922df6-e44a-43c8-e4e5-37a0fc70ba10"
      },
      "execution_count": null,
      "outputs": [
        {
          "output_type": "stream",
          "name": "stdout",
          "text": [
            "2225\n",
            "2225\n",
            "tv future hands viewers home theatre systems  plasma high-definition tvs  digital video recorders moving living room  way people watch tv will radically different five years  time.  according expert panel gathered annual consumer electronics show las vegas discuss new technologies will impact one favourite pastimes. us leading trend  programmes content will delivered viewers via home networks  cable  satellite  telecoms companies  broadband service providers front rooms portable devices.  one talked-about technologies ces digital personal video recorders (dvr pvr). set-top boxes  like us s tivo uk s sky+ system  allow people record  store  play  pause forward wind tv programmes want.  essentially  technology allows much personalised tv. also built-in high-definition tv sets  big business japan us  slower take off europe lack high-definition programming. not can people forward wind adverts  can also forget abiding network channel schedules  putting together a-la-carte entertainment. us networks cable satellite companies worried means terms advertising revenues well  brand identity  viewer loyalty channels. although us leads technology moment  also concern raised europe  particularly growing uptake services like sky+.  happens today  will see nine months years  time uk   adam hume  bbc broadcast s futurologist told bbc news website. likes bbc  no issues lost advertising revenue yet. pressing issue moment commercial uk broadcasters  brand loyalty important everyone.  will talking content brands rather network brands   said tim hanlon  brand communications firm starcom mediavest.  reality broadband connections  anybody can producer content.  added:  challenge now hard promote programme much choice.   means  said stacey jolna  senior vice president tv guide tv group  way people find content want watch simplified tv viewers. means networks  us terms  channels take leaf google s book search engine future  instead scheduler help people find want watch. kind channel model might work younger ipod generation used taking control gadgets play them. might not suit everyone  panel recognised. older generations comfortable familiar schedules channel brands know getting. perhaps not want much choice put hands  mr hanlon suggested.  end  kids just diapers pushing buttons already - everything possible available   said mr hanlon.  ultimately  consumer will tell market want.   50 000 new gadgets technologies showcased ces  many enhancing tv-watching experience. high-definition tv sets everywhere many new models lcd (liquid crystal display) tvs launched dvr capability built  instead external boxes. one example launched show humax s 26-inch lcd tv 80-hour tivo dvr dvd recorder. one us s biggest satellite tv companies  directtv  even launched branded dvr show 100-hours recording capability  instant replay  search function. set can pause rewind tv 90 hours. microsoft chief bill gates announced pre-show keynote speech partnership tivo  called tivotogo  means people can play recorded programmes windows pcs mobile devices. reflect increasing trend freeing multimedia people can watch want  want.\n"
          ]
        }
      ]
    },
    {
      "cell_type": "code",
      "source": [
        "train_size = int(len(sentences) * training_portion) # YOUR CODE HERE\n",
        "\n",
        "train_sentences = sentences[:train_size] # YOUR CODE HERE\n",
        "train_labels = labels[:train_size] # YOUR CODE HERE\n",
        "\n",
        "validation_sentences = sentences[train_size:] # YOUR CODE HERE\n",
        "validation_labels = labels[train_size:] # YOUR CODE HERE\n",
        "\n",
        "print(train_size)\n",
        "print(len(train_sentences))\n",
        "print(len(train_labels))\n",
        "print(len(validation_sentences))\n",
        "print(len(validation_labels))\n",
        "\n",
        "# Expected output (if training_portion=.8)\n",
        "# 1780\n",
        "# 1780\n",
        "# 1780\n",
        "# 445\n",
        "# 445"
      ],
      "metadata": {
        "colab": {
          "base_uri": "https://localhost:8080/"
        },
        "id": "MZQUArFBj3MP",
        "outputId": "bb0b45ea-a020-4b5e-ce84-abf9792e762f"
      },
      "execution_count": null,
      "outputs": [
        {
          "output_type": "stream",
          "name": "stdout",
          "text": [
            "1780\n",
            "1780\n",
            "1780\n",
            "445\n",
            "445\n"
          ]
        }
      ]
    },
    {
      "cell_type": "code",
      "source": [
        "tokenizer = Tokenizer(num_words = vocab_size, oov_token=oov_tok) # YOUR CODE HERE\n",
        "tokenizer.fit_on_texts(train_sentences) # YOUR CODE HERE)\n",
        "word_index = tokenizer.word_index # YOUR CODE HERE\n",
        "\n",
        "train_sequences = tokenizer.texts_to_sequences(train_sentences) # YOUR CODE HERE\n",
        "train_padded = pad_sequences(train_sequences, padding=padding_type, maxlen=max_length) # YOUR CODE HERE\n",
        "\n",
        "print(len(train_sequences[0]))\n",
        "print(len(train_padded[0]))\n",
        "\n",
        "print(len(train_sequences[1]))\n",
        "print(len(train_padded[1]))\n",
        "\n",
        "print(len(train_sequences[10]))\n",
        "print(len(train_padded[10]))\n",
        "\n",
        "# Expected Ouput\n",
        "# 449\n",
        "# 120\n",
        "# 200\n",
        "# 120\n",
        "# 192\n",
        "# 120"
      ],
      "metadata": {
        "colab": {
          "base_uri": "https://localhost:8080/"
        },
        "id": "LdE9JSkDj3Je",
        "outputId": "b1cf530a-3c45-43fb-dfd1-c39c5efc1857"
      },
      "execution_count": null,
      "outputs": [
        {
          "output_type": "stream",
          "name": "stdout",
          "text": [
            "449\n",
            "120\n",
            "200\n",
            "120\n",
            "192\n",
            "120\n"
          ]
        }
      ]
    },
    {
      "cell_type": "code",
      "source": [
        "validation_sequences = tokenizer.texts_to_sequences(validation_sentences) # YOUR CODE HERE\n",
        "validation_padded = pad_sequences(validation_sequences, padding=padding_type, maxlen=max_length) # YOUR CODE HERE\n",
        "\n",
        "print(len(validation_sequences))\n",
        "print(validation_padded.shape)\n",
        "\n",
        "# Expected output\n",
        "# 445\n",
        "# (445, 120)"
      ],
      "metadata": {
        "colab": {
          "base_uri": "https://localhost:8080/"
        },
        "id": "ohBf_cknj3Gi",
        "outputId": "ff737948-2a3d-4577-87ba-238bb01a9b2a"
      },
      "execution_count": null,
      "outputs": [
        {
          "output_type": "stream",
          "name": "stdout",
          "text": [
            "445\n",
            "(445, 120)\n"
          ]
        }
      ]
    },
    {
      "cell_type": "code",
      "source": [
        "label_tokenizer = Tokenizer() # YOUR CODE HERE\n",
        "label_tokenizer.fit_on_texts(labels) # YOUR CODE HERE\n",
        "\n",
        "training_label_seq = np.array(label_tokenizer.texts_to_sequences(train_labels)) # YOUR CODE HERE\n",
        "validation_label_seq = np.array(label_tokenizer.texts_to_sequences(validation_labels)) # YOUR CODE HERE\n",
        "\n",
        "print(training_label_seq[0])\n",
        "print(training_label_seq[1])\n",
        "print(training_label_seq[2])\n",
        "print(training_label_seq.shape)\n",
        "\n",
        "print(validation_label_seq[0])\n",
        "print(validation_label_seq[1])\n",
        "print(validation_label_seq[2])\n",
        "print(validation_label_seq.shape)\n",
        "\n",
        "# Expected output\n",
        "# [4]\n",
        "# [2]\n",
        "# [1]\n",
        "# (1780, 1)\n",
        "# [5]\n",
        "# [4]\n",
        "# [3]\n",
        "# (445, 1)"
      ],
      "metadata": {
        "colab": {
          "base_uri": "https://localhost:8080/"
        },
        "id": "3GXNK7Tgj2vt",
        "outputId": "a2cc0b2b-1ede-4824-ac56-fa32d8ee460b"
      },
      "execution_count": null,
      "outputs": [
        {
          "output_type": "stream",
          "name": "stdout",
          "text": [
            "[4]\n",
            "[2]\n",
            "[1]\n",
            "(1780, 1)\n",
            "[5]\n",
            "[4]\n",
            "[3]\n",
            "(445, 1)\n"
          ]
        }
      ]
    },
    {
      "cell_type": "code",
      "source": [
        "model = tf.keras.Sequential([\n",
        "    # YOUR CODE HERE\n",
        "    tf.keras.layers.Embedding(vocab_size, embedding_dim, input_length=max_length),\n",
        "    tf.keras.layers.GlobalAveragePooling1D(),\n",
        "    tf.keras.layers.Dense(24, activation='relu'),\n",
        "    tf.keras.layers.Dense(6, activation='softmax')\n",
        "])\n",
        "model.compile(loss='sparse_categorical_crossentropy',optimizer='adam',metrics=['accuracy'])\n",
        "model.summary()\n",
        "\n",
        "# Expected Output\n",
        "# Layer (type)                 Output Shape              Param #   \n",
        "# =================================================================\n",
        "# embedding (Embedding)        (None, 120, 16)           16000     \n",
        "# _________________________________________________________________\n",
        "# global_average_pooling1d (Gl (None, 16)                0         \n",
        "# _________________________________________________________________\n",
        "# dense (Dense)                (None, 24)                408       \n",
        "# _________________________________________________________________\n",
        "# dense_1 (Dense)              (None, 6)                 150       \n",
        "# =================================================================\n",
        "# Total params: 16,558\n",
        "# Trainable params: 16,558\n",
        "# Non-trainable params: 0"
      ],
      "metadata": {
        "colab": {
          "base_uri": "https://localhost:8080/"
        },
        "id": "g5e9y7YnkKj6",
        "outputId": "76340748-54cf-4c8f-f808-92e1853110fd"
      },
      "execution_count": null,
      "outputs": [
        {
          "output_type": "stream",
          "name": "stdout",
          "text": [
            "Model: \"sequential\"\n",
            "_________________________________________________________________\n",
            " Layer (type)                Output Shape              Param #   \n",
            "=================================================================\n",
            " embedding (Embedding)       (None, 120, 16)           16000     \n",
            "                                                                 \n",
            " global_average_pooling1d (G  (None, 16)               0         \n",
            " lobalAveragePooling1D)                                          \n",
            "                                                                 \n",
            " dense (Dense)               (None, 24)                408       \n",
            "                                                                 \n",
            " dense_1 (Dense)             (None, 6)                 150       \n",
            "                                                                 \n",
            "=================================================================\n",
            "Total params: 16,558\n",
            "Trainable params: 16,558\n",
            "Non-trainable params: 0\n",
            "_________________________________________________________________\n"
          ]
        }
      ]
    },
    {
      "cell_type": "code",
      "source": [
        "num_epochs = 30\n",
        "#history = model.fit(# YOUR CODE HERE)\n",
        "history = model.fit(train_padded, training_label_seq, epochs=num_epochs, validation_data=(validation_padded, validation_label_seq), verbose=2)"
      ],
      "metadata": {
        "colab": {
          "base_uri": "https://localhost:8080/"
        },
        "id": "4kqvf8XMkKhP",
        "outputId": "6390dfc4-36c8-4c2c-8b40-19a32066508a"
      },
      "execution_count": null,
      "outputs": [
        {
          "output_type": "stream",
          "name": "stdout",
          "text": [
            "Epoch 1/30\n",
            "56/56 - 1s - loss: 1.7701 - accuracy: 0.2461 - val_loss: 1.7411 - val_accuracy: 0.3596 - 1s/epoch - 18ms/step\n",
            "Epoch 2/30\n",
            "56/56 - 0s - loss: 1.6989 - accuracy: 0.3034 - val_loss: 1.6497 - val_accuracy: 0.2989 - 127ms/epoch - 2ms/step\n",
            "Epoch 3/30\n",
            "56/56 - 0s - loss: 1.5856 - accuracy: 0.3264 - val_loss: 1.5211 - val_accuracy: 0.4360 - 173ms/epoch - 3ms/step\n",
            "Epoch 4/30\n",
            "56/56 - 0s - loss: 1.4343 - accuracy: 0.5393 - val_loss: 1.3583 - val_accuracy: 0.5483 - 132ms/epoch - 2ms/step\n",
            "Epoch 5/30\n",
            "56/56 - 0s - loss: 1.2399 - accuracy: 0.6837 - val_loss: 1.1656 - val_accuracy: 0.7708 - 144ms/epoch - 3ms/step\n",
            "Epoch 6/30\n",
            "56/56 - 0s - loss: 1.0318 - accuracy: 0.8584 - val_loss: 0.9794 - val_accuracy: 0.8449 - 129ms/epoch - 2ms/step\n",
            "Epoch 7/30\n",
            "56/56 - 0s - loss: 0.8417 - accuracy: 0.9028 - val_loss: 0.8102 - val_accuracy: 0.8629 - 149ms/epoch - 3ms/step\n",
            "Epoch 8/30\n",
            "56/56 - 0s - loss: 0.6757 - accuracy: 0.9202 - val_loss: 0.6672 - val_accuracy: 0.9056 - 135ms/epoch - 2ms/step\n",
            "Epoch 9/30\n",
            "56/56 - 0s - loss: 0.5418 - accuracy: 0.9388 - val_loss: 0.5563 - val_accuracy: 0.9101 - 138ms/epoch - 2ms/step\n",
            "Epoch 10/30\n",
            "56/56 - 0s - loss: 0.4375 - accuracy: 0.9438 - val_loss: 0.4684 - val_accuracy: 0.9124 - 137ms/epoch - 2ms/step\n",
            "Epoch 11/30\n",
            "56/56 - 0s - loss: 0.3591 - accuracy: 0.9500 - val_loss: 0.4060 - val_accuracy: 0.9146 - 130ms/epoch - 2ms/step\n",
            "Epoch 12/30\n",
            "56/56 - 0s - loss: 0.3007 - accuracy: 0.9522 - val_loss: 0.3542 - val_accuracy: 0.9169 - 151ms/epoch - 3ms/step\n",
            "Epoch 13/30\n",
            "56/56 - 0s - loss: 0.2568 - accuracy: 0.9584 - val_loss: 0.3213 - val_accuracy: 0.9191 - 131ms/epoch - 2ms/step\n",
            "Epoch 14/30\n",
            "56/56 - 0s - loss: 0.2230 - accuracy: 0.9607 - val_loss: 0.2916 - val_accuracy: 0.9191 - 181ms/epoch - 3ms/step\n",
            "Epoch 15/30\n",
            "56/56 - 0s - loss: 0.1960 - accuracy: 0.9663 - val_loss: 0.2715 - val_accuracy: 0.9191 - 127ms/epoch - 2ms/step\n",
            "Epoch 16/30\n",
            "56/56 - 0s - loss: 0.1723 - accuracy: 0.9725 - val_loss: 0.2533 - val_accuracy: 0.9281 - 136ms/epoch - 2ms/step\n",
            "Epoch 17/30\n",
            "56/56 - 0s - loss: 0.1534 - accuracy: 0.9713 - val_loss: 0.2400 - val_accuracy: 0.9303 - 136ms/epoch - 2ms/step\n",
            "Epoch 18/30\n",
            "56/56 - 0s - loss: 0.1373 - accuracy: 0.9798 - val_loss: 0.2292 - val_accuracy: 0.9326 - 142ms/epoch - 3ms/step\n",
            "Epoch 19/30\n",
            "56/56 - 0s - loss: 0.1223 - accuracy: 0.9803 - val_loss: 0.2181 - val_accuracy: 0.9303 - 147ms/epoch - 3ms/step\n",
            "Epoch 20/30\n",
            "56/56 - 0s - loss: 0.1111 - accuracy: 0.9820 - val_loss: 0.2094 - val_accuracy: 0.9371 - 148ms/epoch - 3ms/step\n",
            "Epoch 21/30\n",
            "56/56 - 0s - loss: 0.0997 - accuracy: 0.9843 - val_loss: 0.2036 - val_accuracy: 0.9348 - 138ms/epoch - 2ms/step\n",
            "Epoch 22/30\n",
            "56/56 - 0s - loss: 0.0911 - accuracy: 0.9854 - val_loss: 0.1984 - val_accuracy: 0.9348 - 139ms/epoch - 2ms/step\n",
            "Epoch 23/30\n",
            "56/56 - 0s - loss: 0.0823 - accuracy: 0.9865 - val_loss: 0.1935 - val_accuracy: 0.9371 - 140ms/epoch - 2ms/step\n",
            "Epoch 24/30\n",
            "56/56 - 0s - loss: 0.0743 - accuracy: 0.9921 - val_loss: 0.1898 - val_accuracy: 0.9348 - 135ms/epoch - 2ms/step\n",
            "Epoch 25/30\n",
            "56/56 - 0s - loss: 0.0679 - accuracy: 0.9933 - val_loss: 0.1857 - val_accuracy: 0.9393 - 136ms/epoch - 2ms/step\n",
            "Epoch 26/30\n",
            "56/56 - 0s - loss: 0.0618 - accuracy: 0.9949 - val_loss: 0.1816 - val_accuracy: 0.9393 - 184ms/epoch - 3ms/step\n",
            "Epoch 27/30\n",
            "56/56 - 0s - loss: 0.0565 - accuracy: 0.9961 - val_loss: 0.1794 - val_accuracy: 0.9393 - 130ms/epoch - 2ms/step\n",
            "Epoch 28/30\n",
            "56/56 - 0s - loss: 0.0516 - accuracy: 0.9966 - val_loss: 0.1785 - val_accuracy: 0.9393 - 131ms/epoch - 2ms/step\n",
            "Epoch 29/30\n",
            "56/56 - 0s - loss: 0.0472 - accuracy: 0.9983 - val_loss: 0.1797 - val_accuracy: 0.9326 - 130ms/epoch - 2ms/step\n",
            "Epoch 30/30\n",
            "56/56 - 0s - loss: 0.0431 - accuracy: 0.9978 - val_loss: 0.1740 - val_accuracy: 0.9371 - 132ms/epoch - 2ms/step\n"
          ]
        }
      ]
    },
    {
      "cell_type": "code",
      "source": [
        "import matplotlib.pyplot as plt\n",
        "\n",
        "\n",
        "def plot_graphs(history, string):\n",
        "  plt.plot(history.history[string])\n",
        "  plt.plot(history.history['val_'+string])\n",
        "  plt.xlabel(\"Epochs\")\n",
        "  plt.ylabel(string)\n",
        "  plt.legend([string, 'val_'+string])\n",
        "  plt.show()\n",
        "  \n",
        "plot_graphs(history, \"accuracy\")\n",
        "plot_graphs(history, \"loss\")"
      ],
      "metadata": {
        "colab": {
          "base_uri": "https://localhost:8080/",
          "height": 541
        },
        "id": "OwF_O8_mkKZ2",
        "outputId": "36c42a7d-558c-4aeb-e2fd-b9d638ccc6a2"
      },
      "execution_count": null,
      "outputs": [
        {
          "output_type": "display_data",
          "data": {
            "text/plain": [
              "<Figure size 432x288 with 1 Axes>"
            ],
            "image/png": "[encoded data removed]"
          },
          "metadata": {
            "needs_background": "light"
          }
        },
        {
          "output_type": "display_data",
          "data": {
            "text/plain": [
              "<Figure size 432x288 with 1 Axes>"
            ],
            "image/png": "[encoded data removed]"
          },
          "metadata": {
            "needs_background": "light"
          }
        }
      ]
    }
  ]
}