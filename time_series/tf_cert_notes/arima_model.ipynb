{
 "cells": [
  {
   "cell_type": "code",
   "execution_count": 3,
   "metadata": {},
   "outputs": [
    {
     "name": "stdout",
     "output_type": "stream",
     "text": [
      "                               SARIMAX Results                                \n",
      "==============================================================================\n",
      "Dep. Variable:                      y   No. Observations:                 1460\n",
      "Model:                 ARIMA(5, 1, 0)   Log Likelihood               -4798.422\n",
      "Date:                Mon, 03 Jan 2022   AIC                           9608.843\n",
      "Time:                        20:24:35   BIC                           9640.556\n",
      "Sample:                             0   HQIC                          9620.674\n",
      "                               - 1460                                         \n",
      "Covariance Type:                  opg                                         \n",
      "==============================================================================\n",
      "                 coef    std err          z      P>|z|      [0.025      0.975]\n",
      "------------------------------------------------------------------------------\n",
      "ar.L1         -0.5781      0.016    -36.011      0.000      -0.610      -0.547\n",
      "ar.L2         -0.3119      0.023    -13.777      0.000      -0.356      -0.268\n",
      "ar.L3         -0.1161      0.029     -4.026      0.000      -0.173      -0.060\n",
      "ar.L4         -0.0737      0.028     -2.619      0.009      -0.129      -0.019\n",
      "ar.L5         -0.0227      0.028     -0.807      0.420      -0.078       0.032\n",
      "sigma2        42.0788      0.834     50.470      0.000      40.445      43.713\n",
      "===================================================================================\n",
      "Ljung-Box (L1) (Q):                   0.00   Jarque-Bera (JB):              2254.11\n",
      "Prob(Q):                              0.97   Prob(JB):                         0.00\n",
      "Heteroskedasticity (H):               1.04   Skew:                             1.17\n",
      "Prob(H) (two-sided):                  0.69   Kurtosis:                         8.62\n",
      "===================================================================================\n",
      "\n",
      "Warnings:\n",
      "[1] Covariance matrix calculated using the outer product of gradients (complex-step).\n"
     ]
    }
   ],
   "source": [
    "from statsmodels.tsa.arima.model import ARIMA\n",
    "from time_series_generator import generate_series\n",
    "\n",
    "series = generate_series()\n",
    "\n",
    "model = ARIMA(series, order=(5, 1, 0))\n",
    "model_fit = model.fit()\n",
    "print(model_fit.summary())"
   ]
  },
  {
   "cell_type": "code",
   "execution_count": null,
   "metadata": {},
   "outputs": [],
   "source": []
  }
 ],
 "metadata": {
  "interpreter": {
   "hash": "c299344e81789c678d5aaae6df74b340a09d4d3b3e08eefe7bd3916de3ffd7ea"
  },
  "kernelspec": {
   "display_name": "Python 3.8.8 64-bit ('tf': conda)",
   "language": "python",
   "name": "python3"
  },
  "language_info": {
   "codemirror_mode": {
    "name": "ipython",
    "version": 3
   },
   "file_extension": ".py",
   "mimetype": "text/x-python",
   "name": "python",
   "nbconvert_exporter": "python",
   "pygments_lexer": "ipython3",
   "version": "3.8.8"
  },
  "orig_nbformat": 4
 },
 "nbformat": 4,
 "nbformat_minor": 2
}
