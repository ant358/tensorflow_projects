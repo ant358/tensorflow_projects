{
  "nbformat": 4,
  "nbformat_minor": 0,
  "metadata": {
    "colab": {
      "provenance": [],
      "authorship_tag": "ABX9TyMENqGeauOVGwtjZyo7ahPz",
      "include_colab_link": true
    },
    "kernelspec": {
      "name": "python3",
      "display_name": "Python 3"
    },
    "language_info": {
      "name": "python"
    },
    "accelerator": "GPU",
    "gpuClass": "standard"
  },
  "cells": [
    {
      "cell_type": "markdown",
      "metadata": {
        "id": "view-in-github",
        "colab_type": "text"
      },
      "source": [
        "<a href=\"https://colab.research.google.com/github/ant358/tensorflow_projects/blob/main/classification/images/rock_paper_scissors.ipynb\" target=\"_parent\"><img src=\"https://colab.research.google.com/assets/colab-badge.svg\" alt=\"Open In Colab\"/></a>"
      ]
    },
    {
      "cell_type": "code",
      "execution_count": null,
      "metadata": {
        "colab": {
          "base_uri": "https://localhost:8080/"
        },
        "id": "OjMtviq2v7U6",
        "outputId": "15beaafb-ee5e-4490-a550-bc65e37f74d4"
      },
      "outputs": [
        {
          "output_type": "stream",
          "name": "stdout",
          "text": [
            "Found 2520 images belonging to 3 classes.\n",
            "Model: \"sequential\"\n",
            "_________________________________________________________________\n",
            " Layer (type)                Output Shape              Param #   \n",
            "=================================================================\n",
            " conv2d (Conv2D)             (None, 148, 148, 64)      1792      \n",
            "                                                                 \n",
            " max_pooling2d (MaxPooling2D  (None, 74, 74, 64)       0         \n",
            " )                                                               \n",
            "                                                                 \n",
            " conv2d_1 (Conv2D)           (None, 72, 72, 64)        36928     \n",
            "                                                                 \n",
            " max_pooling2d_1 (MaxPooling  (None, 36, 36, 64)       0         \n",
            " 2D)                                                             \n",
            "                                                                 \n",
            " conv2d_2 (Conv2D)           (None, 34, 34, 128)       73856     \n",
            "                                                                 \n",
            " max_pooling2d_2 (MaxPooling  (None, 17, 17, 128)      0         \n",
            " 2D)                                                             \n",
            "                                                                 \n",
            " conv2d_3 (Conv2D)           (None, 15, 15, 128)       147584    \n",
            "                                                                 \n",
            " max_pooling2d_3 (MaxPooling  (None, 7, 7, 128)        0         \n",
            " 2D)                                                             \n",
            "                                                                 \n",
            " flatten (Flatten)           (None, 6272)              0         \n",
            "                                                                 \n",
            " dropout (Dropout)           (None, 6272)              0         \n",
            "                                                                 \n",
            " dense (Dense)               (None, 512)               3211776   \n",
            "                                                                 \n",
            " dense_1 (Dense)             (None, 3)                 1539      \n",
            "                                                                 \n",
            "=================================================================\n",
            "Total params: 3,473,475\n",
            "Trainable params: 3,473,475\n",
            "Non-trainable params: 0\n",
            "_________________________________________________________________\n",
            "None\n",
            "Epoch 1/25\n",
            "20/20 [==============================] - 32s 919ms/step - loss: 1.8604 - accuracy: 0.3425\n",
            "Epoch 2/25\n",
            "20/20 [==============================] - 19s 941ms/step - loss: 1.1304 - accuracy: 0.3821\n",
            "Epoch 3/25\n",
            "20/20 [==============================] - 19s 941ms/step - loss: 1.0702 - accuracy: 0.4198\n",
            "Epoch 4/25\n",
            "20/20 [==============================] - 20s 984ms/step - loss: 1.0153 - accuracy: 0.5036\n",
            "Epoch 5/25\n",
            "20/20 [==============================] - 19s 938ms/step - loss: 0.9268 - accuracy: 0.5885\n",
            "Epoch 6/25\n",
            "20/20 [==============================] - 19s 944ms/step - loss: 0.8229 - accuracy: 0.6591\n",
            "Epoch 7/25\n",
            "20/20 [==============================] - 19s 932ms/step - loss: 0.6429 - accuracy: 0.7262\n",
            "Epoch 8/25\n",
            "20/20 [==============================] - 19s 941ms/step - loss: 0.5125 - accuracy: 0.8103\n",
            "Epoch 9/25\n",
            "20/20 [==============================] - 19s 934ms/step - loss: 0.5013 - accuracy: 0.7901\n",
            "Epoch 10/25\n",
            "20/20 [==============================] - 19s 939ms/step - loss: 0.3693 - accuracy: 0.8496\n",
            "Epoch 11/25\n",
            "20/20 [==============================] - 19s 939ms/step - loss: 0.3422 - accuracy: 0.8683\n",
            "Epoch 12/25\n",
            "20/20 [==============================] - 19s 935ms/step - loss: 0.2445 - accuracy: 0.9067\n",
            "Epoch 13/25\n",
            "20/20 [==============================] - 19s 943ms/step - loss: 0.2538 - accuracy: 0.9163\n",
            "Epoch 14/25\n",
            "20/20 [==============================] - 19s 937ms/step - loss: 0.2245 - accuracy: 0.9119\n",
            "Epoch 15/25\n",
            "20/20 [==============================] - 19s 933ms/step - loss: 0.1554 - accuracy: 0.9444\n",
            "Epoch 16/25\n",
            "20/20 [==============================] - 19s 937ms/step - loss: 0.1968 - accuracy: 0.9353\n",
            "Epoch 17/25\n",
            "20/20 [==============================] - 19s 945ms/step - loss: 0.1192 - accuracy: 0.9567\n",
            "Epoch 18/25\n",
            "20/20 [==============================] - 19s 937ms/step - loss: 0.1283 - accuracy: 0.9460\n",
            "Epoch 19/25\n",
            "20/20 [==============================] - 19s 937ms/step - loss: 0.0925 - accuracy: 0.9710\n",
            "Epoch 20/25\n",
            "20/20 [==============================] - 19s 935ms/step - loss: 0.1524 - accuracy: 0.9460\n",
            "Epoch 21/25\n",
            "20/20 [==============================] - 19s 944ms/step - loss: 0.1256 - accuracy: 0.9567\n",
            "Epoch 22/25\n",
            "20/20 [==============================] - 19s 947ms/step - loss: 0.0700 - accuracy: 0.9730\n",
            "Epoch 23/25\n",
            "20/20 [==============================] - 19s 938ms/step - loss: 0.1634 - accuracy: 0.9488\n",
            "Epoch 24/25\n",
            "20/20 [==============================] - 19s 937ms/step - loss: 0.0898 - accuracy: 0.9758\n",
            "Epoch 25/25\n",
            "20/20 [==============================] - 19s 934ms/step - loss: 0.0918 - accuracy: 0.9718\n"
          ]
        },
        {
          "output_type": "execute_result",
          "data": {
            "text/plain": [
              "<keras.callbacks.History at 0x7f65fc4bdb50>"
            ]
          },
          "metadata": {},
          "execution_count": 1
        }
      ],
      "source": [
        "import tensorflow as tf\n",
        "import urllib\n",
        "import zipfile\n",
        "# import tensorflow.keras_preprocessing\n",
        "# from tensorflow.keras_preprocessing import image\n",
        "from keras_preprocessing.image import ImageDataGenerator\n",
        "\n",
        "\n",
        "url = 'https://storage.googleapis.com/download.tensorflow.org/data/rps.zip'\n",
        "urllib.request.urlretrieve(url, 'rps.zip')\n",
        "local_zip = 'rps.zip'\n",
        "zip_ref = zipfile.ZipFile(local_zip, 'r')\n",
        "zip_ref.extractall('tmp/')\n",
        "zip_ref.close()\n",
        "\n",
        "\n",
        "TRAINING_DIR = \"tmp/rps/\"\n",
        "training_datagen = ImageDataGenerator(\n",
        "    rescale=1. / 255,\n",
        "    rotation_range=40,\n",
        "    width_shift_range=0.2,\n",
        "    height_shift_range=0.2,\n",
        "    shear_range=0.2,\n",
        "    zoom_range=0.2,\n",
        "    horizontal_flip=True,\n",
        "    fill_mode='nearest')\n",
        "\n",
        "train_generator = training_datagen.flow_from_directory(\n",
        "                    TRAINING_DIR,\n",
        "                    target_size=(150,150),\n",
        "                    class_mode='categorical',\n",
        "                    batch_size=126\n",
        "                    )\n",
        "\n",
        "\n",
        "model = tf.keras.models.Sequential([\n",
        "    tf.keras.layers.Conv2D(64, (3, 3), activation='relu', input_shape=(150, 150, 3)),\n",
        "    tf.keras.layers.MaxPooling2D(2, 2),\n",
        "    # The second convolution\n",
        "    tf.keras.layers.Conv2D(64, (3, 3), activation='relu'),\n",
        "    tf.keras.layers.MaxPooling2D(2, 2),\n",
        "    # The third convolution\n",
        "    tf.keras.layers.Conv2D(128, (3, 3), activation='relu'),\n",
        "    tf.keras.layers.MaxPooling2D(2, 2),\n",
        "    # The fourth convolution\n",
        "    tf.keras.layers.Conv2D(128, (3, 3), activation='relu'),\n",
        "    tf.keras.layers.MaxPooling2D(2, 2),\n",
        "    # Flatten the results to feed into a DNN\n",
        "    tf.keras.layers.Flatten(),\n",
        "    tf.keras.layers.Dropout(0.5),\n",
        "    # 512 neuron hidden layer\n",
        "    tf.keras.layers.Dense(512, activation='relu'),\n",
        "    tf.keras.layers.Dense(3, activation='softmax')\n",
        "])\n",
        "\n",
        "print(model.summary())\n",
        "model.compile(loss='categorical_crossentropy', \n",
        "                optimizer='rmsprop', \n",
        "                metrics=['accuracy'])\n",
        "\n",
        "model.fit(train_generator, \n",
        "            epochs=25, \n",
        "            steps_per_epoch=20, \n",
        "            verbose=1,\n",
        "            validation_steps=3)\n",
        "\n"
      ]
    },
    {
      "cell_type": "code",
      "source": [
        "model.save(\"mymodel.h5\")"
      ],
      "metadata": {
        "id": "UvofGkgszGRa"
      },
      "execution_count": null,
      "outputs": []
    },
    {
      "cell_type": "code",
      "source": [
        "from google.colab import drive\n",
        "drive.mount('/content/drive')"
      ],
      "metadata": {
        "id": "MXgHAg401dA9"
      },
      "execution_count": null,
      "outputs": []
    }
  ]
}